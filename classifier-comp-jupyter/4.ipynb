{
 "cells": [
  {
   "cell_type": "code",
   "execution_count": 1,
   "metadata": {},
   "outputs": [],
   "source": [
    "from sklearn.neighbors import KNeighborsClassifier\n",
    "from sklearn.model_selection import train_test_split\n",
    "from sklearn.metrics import accuracy_score\n",
    "import pandas as pd\n",
    "import numpy as np"
   ]
  },
  {
   "cell_type": "code",
   "execution_count": 2,
   "metadata": {},
   "outputs": [],
   "source": [
    "def intervaloConfiancaTaxaAcerto(vet):\n",
    "    #media - 1,96 x desvioPadrao ; media  + 1,96 x desvioPadrao\n",
    "    for i in range(len(vet)):\n",
    "        media = mediaAmostral(vet[i])\n",
    "        desvio = desvioPadraoAmostral(vet[i])\n",
    "\n",
    "        print(\"Intervalo taxa de acerto utilizando {0}-nn [{1:.2f};{2:.2f}]\".format(i+1 ,(media - 1.96 * desvio), (media + 1.96 * desvio)))"
   ]
  },
  {
   "cell_type": "code",
   "execution_count": 3,
   "metadata": {},
   "outputs": [],
   "source": [
    "def mediaAmostral(accuracyArray):\n",
    "    #print(np.mean(accuracyArray))\n",
    "    return np.mean(accuracyArray)"
   ]
  },
  {
   "cell_type": "code",
   "execution_count": 4,
   "metadata": {},
   "outputs": [],
   "source": [
    "def desvioPadraoAmostral(accuracyArray):\n",
    "    return np.std(accuracyArray, ddof = 1)\n",
    "    #https://cursos.alura.com.br/forum/topico-comandos-para-obter-o-desvio-padrao-amostral-e-o-populacional-com-numpy-162093"
   ]
  },
  {
   "cell_type": "code",
   "execution_count": 5,
   "metadata": {},
   "outputs": [],
   "source": [
    "df = pd.read_csv(\"wine.data\",header=None)"
   ]
  },
  {
   "cell_type": "code",
   "execution_count": 6,
   "metadata": {},
   "outputs": [],
   "source": [
    "x = df[df.columns[1:14:]]\n",
    "y = df[df.columns[0]]"
   ]
  },
  {
   "cell_type": "code",
   "execution_count": 7,
   "metadata": {},
   "outputs": [],
   "source": [
    "vet = [[],[],[],[],[],[],[],[],[],[],[],[],[],[],[]]"
   ]
  },
  {
   "cell_type": "code",
   "execution_count": 8,
   "metadata": {},
   "outputs": [],
   "source": [
    "for i in range(30):\n",
    "    treinoX, testeX, treinoY, testeY = train_test_split(x,y,test_size=0.50,random_state= i)\n",
    "    for j in range(15):\n",
    "        knn = KNeighborsClassifier(n_neighbors= j+1, weights= \"distance\",metric=\"euclidean\")\n",
    "        knn.fit(treinoX,treinoY)\n",
    "        y_pred = knn.predict(testeX)\n",
    "        y_true = testeY\n",
    "        #print(accuracy_score(y_true,y_pred))\n",
    "        vet[j].append(accuracy_score(y_true,y_pred))"
   ]
  },
  {
   "cell_type": "code",
   "execution_count": 9,
   "metadata": {},
   "outputs": [
    {
     "name": "stdout",
     "output_type": "stream",
     "text": [
      "Intervalo taxa de acerto utilizando 1-nn [0.63;0.82]\n",
      "Intervalo taxa de acerto utilizando 2-nn [0.63;0.82]\n",
      "Intervalo taxa de acerto utilizando 3-nn [0.64;0.79]\n",
      "Intervalo taxa de acerto utilizando 4-nn [0.63;0.80]\n",
      "Intervalo taxa de acerto utilizando 5-nn [0.64;0.79]\n",
      "Intervalo taxa de acerto utilizando 6-nn [0.64;0.79]\n",
      "Intervalo taxa de acerto utilizando 7-nn [0.64;0.79]\n",
      "Intervalo taxa de acerto utilizando 8-nn [0.64;0.80]\n",
      "Intervalo taxa de acerto utilizando 9-nn [0.64;0.79]\n",
      "Intervalo taxa de acerto utilizando 10-nn [0.64;0.80]\n",
      "Intervalo taxa de acerto utilizando 11-nn [0.64;0.80]\n",
      "Intervalo taxa de acerto utilizando 12-nn [0.64;0.80]\n",
      "Intervalo taxa de acerto utilizando 13-nn [0.64;0.81]\n",
      "Intervalo taxa de acerto utilizando 14-nn [0.65;0.79]\n",
      "Intervalo taxa de acerto utilizando 15-nn [0.66;0.79]\n"
     ]
    }
   ],
   "source": [
    "intervaloConfiancaTaxaAcerto(vet)"
   ]
  }
 ],
 "metadata": {
  "interpreter": {
   "hash": "916dbcbb3f70747c44a77c7bcd40155683ae19c65e1c03b4aa3499c5328201f1"
  },
  "kernelspec": {
   "display_name": "Python 3.8.10 64-bit",
   "language": "python",
   "name": "python3"
  },
  "language_info": {
   "codemirror_mode": {
    "name": "ipython",
    "version": 3
   },
   "file_extension": ".py",
   "mimetype": "text/x-python",
   "name": "python",
   "nbconvert_exporter": "python",
   "pygments_lexer": "ipython3",
   "version": "3.8.10"
  },
  "orig_nbformat": 4
 },
 "nbformat": 4,
 "nbformat_minor": 2
}
