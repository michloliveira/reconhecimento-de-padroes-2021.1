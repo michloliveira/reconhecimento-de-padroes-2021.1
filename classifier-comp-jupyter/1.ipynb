{
 "cells": [
  {
   "cell_type": "code",
   "execution_count": 46,
   "metadata": {},
   "outputs": [],
   "source": [
    "from sklearn.neighbors import KNeighborsClassifier\n",
    "from sklearn.model_selection import StratifiedKFold\n",
    "from sklearn.metrics import f1_score\n",
    "from matplotlib import pyplot as plt\n",
    "import pandas as pd\n",
    "import numpy as np\n"
   ]
  },
  {
   "cell_type": "code",
   "execution_count": 47,
   "metadata": {},
   "outputs": [],
   "source": [
    "def intervaloConfiancaF1(f1):\n",
    "    #media - 1,96 x desvioPadrao ; media  + 1,96 x desvioPadrao\n",
    "    media = mediaAmostral(f1)\n",
    "    desvioPadrao = desvioPadraoAmostral(f1)\n",
    "\n",
    "    print(\"Intervalo de confianca da medida F [{0:.2f};{1:.2f}]\".format((media - 1.96 * desvioPadrao), (media + 1.96 * desvioPadrao)))"
   ]
  },
  {
   "cell_type": "code",
   "execution_count": 48,
   "metadata": {},
   "outputs": [],
   "source": [
    "def desvioPadraoAmostral(accuracyArray):\n",
    "    return np.std(accuracyArray, ddof = 1)\n"
   ]
  },
  {
   "cell_type": "code",
   "execution_count": 49,
   "metadata": {},
   "outputs": [],
   "source": [
    "def mediaAmostral(accuracyArray):\n",
    "    return np.mean(accuracyArray)"
   ]
  },
  {
   "cell_type": "code",
   "execution_count": 50,
   "metadata": {},
   "outputs": [],
   "source": [
    "df = pd.read_csv(\"Skin_NonSkin.txt\", sep=\"\\t\", header=None)\n",
    "df.columns = [\"B\", \"G\", \"R\", \"Classe\"]\n",
    "#df.head()"
   ]
  },
  {
   "cell_type": "code",
   "execution_count": 51,
   "metadata": {},
   "outputs": [],
   "source": [
    "x =  df[df.columns[0:3:]]\n",
    "y = df[df.columns[-1]]\n",
    "\n",
    "X = x.to_numpy()\n",
    "Y = y.to_numpy()\n"
   ]
  },
  {
   "cell_type": "code",
   "execution_count": 52,
   "metadata": {},
   "outputs": [],
   "source": [
    "f1 = []\n",
    "maxF1 = []\n",
    "minF1 = []\n",
    "media = []"
   ]
  },
  {
   "cell_type": "code",
   "execution_count": 53,
   "metadata": {},
   "outputs": [],
   "source": [
    "skf = StratifiedKFold(n_splits=100)\n",
    "skf.get_n_splits(X, Y)\n",
    "\n",
    "for train_index, test_index in skf.split(X, Y):\n",
    "    #print(\"TRAIN:\", train_index, \"TEST:\", test_index)\n",
    "    X_train, X_test = X[train_index], X[test_index]\n",
    "    y_train, y_test = Y[train_index], Y[test_index]\n",
    "\n",
    "    knn = KNeighborsClassifier(n_neighbors=1, weights= \"distance\",metric=\"euclidean\")\n",
    "    knn.fit(X_train, y_train)\n",
    "    y_pred = knn.predict(X_test)\n",
    "    y_true = y_test\n",
    "\n",
    "    f1.append(f1_score(y_true,y_pred))\n",
    "    "
   ]
  },
  {
   "cell_type": "code",
   "execution_count": 57,
   "metadata": {},
   "outputs": [
    {
     "name": "stdout",
     "output_type": "stream",
     "text": [
      "medida F\n",
      "Minimo = 0.9769230769230769\n",
      "Maximo = 1.0\n",
      "Media = 0.9983080322155553\n"
     ]
    }
   ],
   "source": [
    "minF1 = min(f1)\n",
    "maxF1 = max(f1)\n",
    "media = np.mean(f1)\n",
    "\n",
    "print(\"medida F\\nMinimo = {0}\\nMaximo = {1}\\nMedia = {2}\".format(minF1,maxF1,media))"
   ]
  },
  {
   "cell_type": "code",
   "execution_count": 55,
   "metadata": {},
   "outputs": [
    {
     "data": {
      "image/png": "[encoded data removed]",
      "text/plain": [
       "<Figure size 432x288 with 1 Axes>"
      ]
     },
     "metadata": {
      "needs_background": "light"
     },
     "output_type": "display_data"
    }
   ],
   "source": [
    "plt.hist(f1)\n",
    "plt.title(\"test\")\n",
    "plt.show()"
   ]
  },
  {
   "cell_type": "code",
   "execution_count": 56,
   "metadata": {},
   "outputs": [
    {
     "name": "stdout",
     "output_type": "stream",
     "text": [
      "Intervalo de confianca da medida F [0.99;1.00]\n"
     ]
    }
   ],
   "source": [
    "intervaloConfiancaF1(f1)"
   ]
  }
 ],
 "metadata": {
  "interpreter": {
   "hash": "916dbcbb3f70747c44a77c7bcd40155683ae19c65e1c03b4aa3499c5328201f1"
  },
  "kernelspec": {
   "display_name": "Python 3.8.10 64-bit",
   "language": "python",
   "name": "python3"
  },
  "language_info": {
   "codemirror_mode": {
    "name": "ipython",
    "version": 3
   },
   "file_extension": ".py",
   "mimetype": "text/x-python",
   "name": "python",
   "nbconvert_exporter": "python",
   "pygments_lexer": "ipython3",
   "version": "3.8.10"
  },
  "orig_nbformat": 4
 },
 "nbformat": 4,
 "nbformat_minor": 2
}
