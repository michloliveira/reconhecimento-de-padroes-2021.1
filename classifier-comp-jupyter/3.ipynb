{
 "cells": [
  {
   "cell_type": "code",
   "execution_count": 41,
   "metadata": {},
   "outputs": [],
   "source": [
    "from sklearn.neighbors import KNeighborsClassifier\n",
    "from sklearn.model_selection import train_test_split\n",
    "from sklearn.metrics import accuracy_score\n",
    "import pandas as pd\n",
    "import numpy as np"
   ]
  },
  {
   "cell_type": "code",
   "execution_count": 52,
   "metadata": {},
   "outputs": [],
   "source": [
    "def mediaAmostral(accuracyArray):\n",
    "    return np.mean(accuracyArray)"
   ]
  },
  {
   "cell_type": "code",
   "execution_count": 53,
   "metadata": {},
   "outputs": [],
   "source": [
    "def desvioPadraoAmostral(accuracyArray):\n",
    "    return np.std(accuracyArray, ddof = 1)\n"
   ]
  },
  {
   "cell_type": "code",
   "execution_count": 55,
   "metadata": {},
   "outputs": [],
   "source": [
    "def intervaloConfiancaTaxaAcerto(accuracy,accuracy2,accuracy3,accuracy4):\n",
    "    #media - 1,96 x desvioPadrao ; media  + 1,96 x desvioPadrao\n",
    "    media1 = mediaAmostral(accuracy)\n",
    "    media2 = mediaAmostral(accuracy2)\n",
    "    media3 = mediaAmostral(accuracy3)\n",
    "    media4 = mediaAmostral(accuracy4)\n",
    "    desvio1 = desvioPadraoAmostral(accuracy)\n",
    "    desvio2 = desvioPadraoAmostral(accuracy2)\n",
    "    desvio3 = desvioPadraoAmostral(accuracy3)\n",
    "    desvio4 = desvioPadraoAmostral(accuracy4)\n",
    "\n",
    "    print(\"Intervalo taxa de acerto utilizando 4 colunas [{0:.2f};{1:.2f}]\".format((media1 - 1.96 * desvio1), (media1 + 1.96 * desvio1)))\n",
    "    print(\"Intervalo taxa de acerto utilizando 3 colunas [{0:.2f};{1:.2f}]\".format((media2 - 1.96 * desvio2), (media2 + 1.96 * desvio2)))\n",
    "    print(\"Intervalo taxa de acerto utilizando 2 colunas [{0:.2f};{1:.2f}]\".format((media3 - 1.96 * desvio3), (media3 + 1.96 * desvio3)))\n",
    "    print(\"Intervalo taxa de acerto utilizando 1 coluna [{0:.2f};{1:.2f}]\".format((media4 - 1.96 * desvio4), (media4 + 1.96 * desvio4)))"
   ]
  },
  {
   "cell_type": "code",
   "execution_count": 43,
   "metadata": {},
   "outputs": [
    {
     "data": {
      "text/html": [
       "<div>\n",
       "<style scoped>\n",
       "    .dataframe tbody tr th:only-of-type {\n",
       "        vertical-align: middle;\n",
       "    }\n",
       "\n",
       "    .dataframe tbody tr th {\n",
       "        vertical-align: top;\n",
       "    }\n",
       "\n",
       "    .dataframe thead th {\n",
       "        text-align: right;\n",
       "    }\n",
       "</style>\n",
       "<table border=\"1\" class=\"dataframe\">\n",
       "  <thead>\n",
       "    <tr style=\"text-align: right;\">\n",
       "      <th></th>\n",
       "      <th>5.1</th>\n",
       "      <th>3.5</th>\n",
       "      <th>1.4</th>\n",
       "      <th>0.2</th>\n",
       "      <th>Iris-setosa</th>\n",
       "    </tr>\n",
       "  </thead>\n",
       "  <tbody>\n",
       "    <tr>\n",
       "      <th>0</th>\n",
       "      <td>4.9</td>\n",
       "      <td>3.0</td>\n",
       "      <td>1.4</td>\n",
       "      <td>0.2</td>\n",
       "      <td>Iris-setosa</td>\n",
       "    </tr>\n",
       "    <tr>\n",
       "      <th>1</th>\n",
       "      <td>4.7</td>\n",
       "      <td>3.2</td>\n",
       "      <td>1.3</td>\n",
       "      <td>0.2</td>\n",
       "      <td>Iris-setosa</td>\n",
       "    </tr>\n",
       "    <tr>\n",
       "      <th>2</th>\n",
       "      <td>4.6</td>\n",
       "      <td>3.1</td>\n",
       "      <td>1.5</td>\n",
       "      <td>0.2</td>\n",
       "      <td>Iris-setosa</td>\n",
       "    </tr>\n",
       "    <tr>\n",
       "      <th>3</th>\n",
       "      <td>5.0</td>\n",
       "      <td>3.6</td>\n",
       "      <td>1.4</td>\n",
       "      <td>0.2</td>\n",
       "      <td>Iris-setosa</td>\n",
       "    </tr>\n",
       "    <tr>\n",
       "      <th>4</th>\n",
       "      <td>5.4</td>\n",
       "      <td>3.9</td>\n",
       "      <td>1.7</td>\n",
       "      <td>0.4</td>\n",
       "      <td>Iris-setosa</td>\n",
       "    </tr>\n",
       "  </tbody>\n",
       "</table>\n",
       "</div>"
      ],
      "text/plain": [
       "   5.1  3.5  1.4  0.2  Iris-setosa\n",
       "0  4.9  3.0  1.4  0.2  Iris-setosa\n",
       "1  4.7  3.2  1.3  0.2  Iris-setosa\n",
       "2  4.6  3.1  1.5  0.2  Iris-setosa\n",
       "3  5.0  3.6  1.4  0.2  Iris-setosa\n",
       "4  5.4  3.9  1.7  0.4  Iris-setosa"
      ]
     },
     "execution_count": 43,
     "metadata": {},
     "output_type": "execute_result"
    }
   ],
   "source": [
    "df = pd.read_csv(\"iris.data\")\n",
    "\n",
    "df.head()"
   ]
  },
  {
   "cell_type": "code",
   "execution_count": 57,
   "metadata": {},
   "outputs": [],
   "source": [
    "accuracy = []\n",
    "accuracy2 = []\n",
    "accuracy3 = []\n",
    "accuracy4 = []"
   ]
  },
  {
   "cell_type": "code",
   "execution_count": 45,
   "metadata": {},
   "outputs": [],
   "source": [
    "x = df[df.columns[:4:]]\n",
    "x2 = df[df.columns[:3:]]\n",
    "x3 = df[df.columns[:2:]]\n",
    "x4 = df[df.columns[:1:]]"
   ]
  },
  {
   "cell_type": "code",
   "execution_count": 46,
   "metadata": {},
   "outputs": [],
   "source": [
    "\n",
    "for i in range(100):\n",
    "    y = df[df.columns[4]]\n",
    "    treinoX, testeX, treinoY, testeY = train_test_split(x,y,test_size=0.50,random_state= i)\n",
    "    knn = KNeighborsClassifier(n_neighbors=1, weights= \"distance\",metric=\"euclidean\")\n",
    "    knn.fit(treinoX,treinoY)\n",
    "    y_pred = knn.predict(testeX)\n",
    "    y_true = testeY\n",
    "    #print(accuracy_score(y_true,y_pred))\n",
    "    accuracy.append(accuracy_score(y_true,y_pred))\n",
    "\n",
    "    treinoX, testeX, treinoY, testeY = train_test_split(x2,y,test_size=0.50,random_state= i)\n",
    "    knn = KNeighborsClassifier(n_neighbors=1, weights= \"distance\",metric=\"euclidean\")\n",
    "    knn.fit(treinoX,treinoY)\n",
    "    y_pred = knn.predict(testeX)\n",
    "    y_true = testeY\n",
    "    #print(accuracy_score(y_true,y_pred))\n",
    "    accuracy2.append(accuracy_score(y_true,y_pred))\n",
    "\n",
    "    treinoX, testeX, treinoY, testeY = train_test_split(x3,y,test_size=0.50,random_state= i)\n",
    "    knn = KNeighborsClassifier(n_neighbors=1, weights= \"distance\",metric=\"euclidean\")\n",
    "    knn.fit(treinoX,treinoY)\n",
    "    y_pred = knn.predict(testeX)\n",
    "    y_true = testeY\n",
    "    #print(accuracy_score(y_true,y_pred))\n",
    "    accuracy3.append(accuracy_score(y_true,y_pred))\n",
    "\n",
    "    treinoX, testeX, treinoY, testeY = train_test_split(x4,y,test_size=0.50,random_state= i)\n",
    "    knn = KNeighborsClassifier(n_neighbors=1, weights= \"distance\",metric=\"euclidean\")\n",
    "    knn.fit(treinoX,treinoY)\n",
    "    y_pred = knn.predict(testeX)\n",
    "    y_true = testeY\n",
    "    #print(accuracy_score(y_true,y_pred))\n",
    "    accuracy4.append(accuracy_score(y_true,y_pred))"
   ]
  },
  {
   "cell_type": "code",
   "execution_count": 56,
   "metadata": {},
   "outputs": [
    {
     "name": "stdout",
     "output_type": "stream",
     "text": [
      "Intervalo taxa de acerto utilizando 4 colunas [0.92;0.99]\n",
      "Intervalo taxa de acerto utilizando 3 colunas [0.87;0.98]\n",
      "Intervalo taxa de acerto utilizando 2 colunas [0.63;0.80]\n",
      "Intervalo taxa de acerto utilizando 1 coluna [0.47;0.72]\n"
     ]
    }
   ],
   "source": [
    "intervaloConfiancaTaxaAcerto(accuracy,accuracy2,accuracy3,accuracy4)\n"
   ]
  }
 ],
 "metadata": {
  "interpreter": {
   "hash": "31f2aee4e71d21fbe5cf8b01ff0e069b9275f58929596ceb00d14d90e3e16cd6"
  },
  "kernelspec": {
   "display_name": "Python 3.8.10 64-bit",
   "language": "python",
   "name": "python3"
  },
  "language_info": {
   "codemirror_mode": {
    "name": "ipython",
    "version": 3
   },
   "file_extension": ".py",
   "mimetype": "text/x-python",
   "name": "python",
   "nbconvert_exporter": "python",
   "pygments_lexer": "ipython3",
   "version": "3.8.10"
  },
  "orig_nbformat": 4
 },
 "nbformat": 4,
 "nbformat_minor": 2
}
