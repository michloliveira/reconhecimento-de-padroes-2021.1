{
 "cells": [
  {
   "cell_type": "code",
   "execution_count": 15,
   "metadata": {},
   "outputs": [],
   "source": [
    "from sklearn.neighbors import KNeighborsClassifier\n",
    "from sklearn.model_selection import train_test_split\n",
    "from sklearn.metrics import accuracy_score\n",
    "import pandas as pd\n",
    "import numpy as np"
   ]
  },
  {
   "cell_type": "code",
   "execution_count": 16,
   "metadata": {},
   "outputs": [],
   "source": [
    "def mediaAmostral(accuracyArray):\n",
    "    return np.mean(accuracyArray)"
   ]
  },
  {
   "cell_type": "code",
   "execution_count": 17,
   "metadata": {},
   "outputs": [],
   "source": [
    "def desvioPadraoAmostral(accuracyArray):\n",
    "    return np.std(accuracyArray, ddof = 1)\n"
   ]
  },
  {
   "cell_type": "code",
   "execution_count": 18,
   "metadata": {},
   "outputs": [],
   "source": [
    "def diferenca(accuracy,accuracy2,diff):\n",
    "    print(\"Accuracy1\\tAccuracy2\\tDiferenca\")\n",
    "    for i in range(len(accuracy)):\n",
    "        diferenca = accuracy[i] - accuracy2[i]\n",
    "        print(\"{0:.2f}\\t\\t{1:.2f}\\t\\t{2:.2f}\".format(accuracy[i],accuracy2[i],diferenca))\n",
    "        diff.append(diferenca)\n",
    "        \n"
   ]
  },
  {
   "cell_type": "code",
   "execution_count": 19,
   "metadata": {},
   "outputs": [],
   "source": [
    "def intervaloConfiancaDiferenca(diff):\n",
    "    #media - 1,96 x desvioPadrao ; media  + 1,96 x desvioPadrao'''\n",
    "    media = mediaAmostral(diff)\n",
    "    desvioPadrao = desvioPadraoAmostral(diff)\n",
    "\n",
    "    print(\"Intervalo de confianca das diferencas [{0:.2f};{1:.2f}]\".format((media - 1.96 * desvioPadrao), (media + 1.96 * desvioPadrao)))"
   ]
  },
  {
   "cell_type": "code",
   "execution_count": 20,
   "metadata": {},
   "outputs": [],
   "source": [
    "def intervaloConfiancaTaxaAcerto(accuracy,accuracy2):\n",
    "    #media - 1,96 x desvioPadrao ; media  + 1,96 x desvioPadrao\n",
    "    media1 = mediaAmostral(accuracy)\n",
    "    media2 = mediaAmostral(accuracy2)\n",
    "    desvio1 = desvioPadraoAmostral(accuracy)\n",
    "    desvio2 = desvioPadraoAmostral(accuracy2)\n",
    "\n",
    "    print(\"Intervalo taxa de acerto v1 [{0:.2f};{1:.2f}]\".format((media1 - 1.96 * desvio1), (media1 + 1.96 * desvio1)))\n",
    "    print(\"Intervalo taxa de acerto v2 [{0:.2f};{1:.2f}]\".format((media2 - 1.96 * desvio2), (media2 + 1.96 * desvio2)))\n",
    "\n",
    "\n"
   ]
  },
  {
   "cell_type": "code",
   "execution_count": 21,
   "metadata": {},
   "outputs": [
    {
     "data": {
      "text/html": [
       "<div>\n",
       "<style scoped>\n",
       "    .dataframe tbody tr th:only-of-type {\n",
       "        vertical-align: middle;\n",
       "    }\n",
       "\n",
       "    .dataframe tbody tr th {\n",
       "        vertical-align: top;\n",
       "    }\n",
       "\n",
       "    .dataframe thead th {\n",
       "        text-align: right;\n",
       "    }\n",
       "</style>\n",
       "<table border=\"1\" class=\"dataframe\">\n",
       "  <thead>\n",
       "    <tr style=\"text-align: right;\">\n",
       "      <th></th>\n",
       "      <th>1</th>\n",
       "      <th>14.23</th>\n",
       "      <th>1.71</th>\n",
       "      <th>2.43</th>\n",
       "      <th>15.6</th>\n",
       "      <th>127</th>\n",
       "      <th>2.8</th>\n",
       "      <th>3.06</th>\n",
       "      <th>.28</th>\n",
       "      <th>2.29</th>\n",
       "      <th>5.64</th>\n",
       "      <th>1.04</th>\n",
       "      <th>3.92</th>\n",
       "      <th>1065</th>\n",
       "    </tr>\n",
       "  </thead>\n",
       "  <tbody>\n",
       "    <tr>\n",
       "      <th>0</th>\n",
       "      <td>1</td>\n",
       "      <td>13.20</td>\n",
       "      <td>1.78</td>\n",
       "      <td>2.14</td>\n",
       "      <td>11.2</td>\n",
       "      <td>100</td>\n",
       "      <td>2.65</td>\n",
       "      <td>2.76</td>\n",
       "      <td>0.26</td>\n",
       "      <td>1.28</td>\n",
       "      <td>4.38</td>\n",
       "      <td>1.05</td>\n",
       "      <td>3.40</td>\n",
       "      <td>1050</td>\n",
       "    </tr>\n",
       "    <tr>\n",
       "      <th>1</th>\n",
       "      <td>1</td>\n",
       "      <td>13.16</td>\n",
       "      <td>2.36</td>\n",
       "      <td>2.67</td>\n",
       "      <td>18.6</td>\n",
       "      <td>101</td>\n",
       "      <td>2.80</td>\n",
       "      <td>3.24</td>\n",
       "      <td>0.30</td>\n",
       "      <td>2.81</td>\n",
       "      <td>5.68</td>\n",
       "      <td>1.03</td>\n",
       "      <td>3.17</td>\n",
       "      <td>1185</td>\n",
       "    </tr>\n",
       "    <tr>\n",
       "      <th>2</th>\n",
       "      <td>1</td>\n",
       "      <td>14.37</td>\n",
       "      <td>1.95</td>\n",
       "      <td>2.50</td>\n",
       "      <td>16.8</td>\n",
       "      <td>113</td>\n",
       "      <td>3.85</td>\n",
       "      <td>3.49</td>\n",
       "      <td>0.24</td>\n",
       "      <td>2.18</td>\n",
       "      <td>7.80</td>\n",
       "      <td>0.86</td>\n",
       "      <td>3.45</td>\n",
       "      <td>1480</td>\n",
       "    </tr>\n",
       "    <tr>\n",
       "      <th>3</th>\n",
       "      <td>1</td>\n",
       "      <td>13.24</td>\n",
       "      <td>2.59</td>\n",
       "      <td>2.87</td>\n",
       "      <td>21.0</td>\n",
       "      <td>118</td>\n",
       "      <td>2.80</td>\n",
       "      <td>2.69</td>\n",
       "      <td>0.39</td>\n",
       "      <td>1.82</td>\n",
       "      <td>4.32</td>\n",
       "      <td>1.04</td>\n",
       "      <td>2.93</td>\n",
       "      <td>735</td>\n",
       "    </tr>\n",
       "    <tr>\n",
       "      <th>4</th>\n",
       "      <td>1</td>\n",
       "      <td>14.20</td>\n",
       "      <td>1.76</td>\n",
       "      <td>2.45</td>\n",
       "      <td>15.2</td>\n",
       "      <td>112</td>\n",
       "      <td>3.27</td>\n",
       "      <td>3.39</td>\n",
       "      <td>0.34</td>\n",
       "      <td>1.97</td>\n",
       "      <td>6.75</td>\n",
       "      <td>1.05</td>\n",
       "      <td>2.85</td>\n",
       "      <td>1450</td>\n",
       "    </tr>\n",
       "  </tbody>\n",
       "</table>\n",
       "</div>"
      ],
      "text/plain": [
       "   1  14.23  1.71  2.43  15.6  127   2.8  3.06   .28  2.29  5.64  1.04  3.92  \\\n",
       "0  1  13.20  1.78  2.14  11.2  100  2.65  2.76  0.26  1.28  4.38  1.05  3.40   \n",
       "1  1  13.16  2.36  2.67  18.6  101  2.80  3.24  0.30  2.81  5.68  1.03  3.17   \n",
       "2  1  14.37  1.95  2.50  16.8  113  3.85  3.49  0.24  2.18  7.80  0.86  3.45   \n",
       "3  1  13.24  2.59  2.87  21.0  118  2.80  2.69  0.39  1.82  4.32  1.04  2.93   \n",
       "4  1  14.20  1.76  2.45  15.2  112  3.27  3.39  0.34  1.97  6.75  1.05  2.85   \n",
       "\n",
       "   1065  \n",
       "0  1050  \n",
       "1  1185  \n",
       "2  1480  \n",
       "3   735  \n",
       "4  1450  "
      ]
     },
     "execution_count": 21,
     "metadata": {},
     "output_type": "execute_result"
    }
   ],
   "source": [
    "df = pd.read_csv(\"wine.data\")\n",
    "df.head()"
   ]
  },
  {
   "cell_type": "code",
   "execution_count": 22,
   "metadata": {},
   "outputs": [],
   "source": [
    "x = df[df.columns[1:14:]] #all columns\n",
    "x2 = df[df.columns[1:13:]] #less last columns "
   ]
  },
  {
   "cell_type": "code",
   "execution_count": 23,
   "metadata": {},
   "outputs": [],
   "source": [
    "y = df[df.columns[0]]"
   ]
  },
  {
   "cell_type": "code",
   "execution_count": 24,
   "metadata": {},
   "outputs": [],
   "source": [
    "accuracy = []\n",
    "accuracy2 = []\n",
    "diff = []"
   ]
  },
  {
   "cell_type": "code",
   "execution_count": 25,
   "metadata": {},
   "outputs": [],
   "source": [
    "for i in range(100):\n",
    "    treinoX, testeX, treinoY, testeY = train_test_split(x,y,test_size=0.50,random_state= i)\n",
    "    knn = KNeighborsClassifier(n_neighbors=1, weights= \"distance\",metric=\"euclidean\")\n",
    "    knn.fit(treinoX,treinoY)\n",
    "    y_pred = knn.predict(testeX)\n",
    "    y_true = testeY\n",
    "    #print(accuracy_score(y_true,y_pred))\n",
    "    accuracy.append(accuracy_score(y_true,y_pred))\n",
    "\n",
    "    treinoX2, testeX2, treinoY2, testeY2 =  train_test_split(x2,y,test_size=0.50,random_state= i)\n",
    "    knn = KNeighborsClassifier(n_neighbors=1, weights= \"distance\",metric=\"euclidean\")\n",
    "    knn.fit(treinoX2,treinoY2)\n",
    "    y_pred = knn.predict(testeX2)\n",
    "    y_true = testeY\n",
    "    #print(accuracy_score(y_true,y_pred))\n",
    "    accuracy2.append(accuracy_score(y_true,y_pred))"
   ]
  },
  {
   "cell_type": "code",
   "execution_count": 26,
   "metadata": {},
   "outputs": [
    {
     "name": "stdout",
     "output_type": "stream",
     "text": [
      "Accuracy1\tAccuracy2\tDiferenca\n",
      "0.74\t\t0.82\t\t-0.08\n",
      "0.81\t\t0.84\t\t-0.03\n",
      "0.67\t\t0.88\t\t-0.20\n",
      "0.67\t\t0.83\t\t-0.16\n",
      "0.74\t\t0.76\t\t-0.02\n",
      "0.73\t\t0.78\t\t-0.04\n",
      "0.66\t\t0.80\t\t-0.13\n",
      "0.75\t\t0.87\t\t-0.11\n",
      "0.67\t\t0.80\t\t-0.12\n",
      "0.71\t\t0.80\t\t-0.09\n",
      "0.67\t\t0.84\t\t-0.17\n",
      "0.74\t\t0.81\t\t-0.07\n",
      "0.72\t\t0.87\t\t-0.15\n",
      "0.76\t\t0.87\t\t-0.10\n",
      "0.67\t\t0.83\t\t-0.16\n",
      "0.67\t\t0.82\t\t-0.15\n",
      "0.72\t\t0.82\t\t-0.10\n",
      "0.61\t\t0.82\t\t-0.21\n",
      "0.71\t\t0.91\t\t-0.20\n",
      "0.66\t\t0.70\t\t-0.03\n",
      "0.75\t\t0.83\t\t-0.08\n",
      "0.72\t\t0.84\t\t-0.12\n",
      "0.73\t\t0.80\t\t-0.07\n",
      "0.71\t\t0.81\t\t-0.10\n",
      "0.73\t\t0.83\t\t-0.10\n",
      "0.70\t\t0.83\t\t-0.13\n",
      "0.70\t\t0.85\t\t-0.16\n",
      "0.71\t\t0.85\t\t-0.15\n",
      "0.75\t\t0.80\t\t-0.04\n",
      "0.71\t\t0.87\t\t-0.16\n",
      "0.70\t\t0.89\t\t-0.19\n",
      "0.73\t\t0.87\t\t-0.13\n",
      "0.80\t\t0.87\t\t-0.07\n",
      "0.72\t\t0.80\t\t-0.08\n",
      "0.76\t\t0.83\t\t-0.07\n",
      "0.66\t\t0.73\t\t-0.07\n",
      "0.67\t\t0.84\t\t-0.17\n",
      "0.69\t\t0.89\t\t-0.20\n",
      "0.75\t\t0.84\t\t-0.09\n",
      "0.70\t\t0.78\t\t-0.08\n",
      "0.74\t\t0.84\t\t-0.10\n",
      "0.76\t\t0.81\t\t-0.04\n",
      "0.76\t\t0.82\t\t-0.06\n",
      "0.69\t\t0.81\t\t-0.12\n",
      "0.76\t\t0.82\t\t-0.06\n",
      "0.67\t\t0.82\t\t-0.15\n",
      "0.79\t\t0.82\t\t-0.03\n",
      "0.73\t\t0.81\t\t-0.08\n",
      "0.70\t\t0.75\t\t-0.06\n",
      "0.80\t\t0.84\t\t-0.04\n",
      "0.70\t\t0.89\t\t-0.19\n",
      "0.71\t\t0.79\t\t-0.08\n",
      "0.73\t\t0.87\t\t-0.13\n",
      "0.70\t\t0.81\t\t-0.11\n",
      "0.69\t\t0.87\t\t-0.18\n",
      "0.71\t\t0.76\t\t-0.06\n",
      "0.67\t\t0.87\t\t-0.19\n",
      "0.78\t\t0.89\t\t-0.11\n",
      "0.70\t\t0.85\t\t-0.16\n",
      "0.67\t\t0.85\t\t-0.18\n",
      "0.70\t\t0.82\t\t-0.12\n",
      "0.71\t\t0.85\t\t-0.15\n",
      "0.74\t\t0.87\t\t-0.12\n",
      "0.66\t\t0.83\t\t-0.17\n",
      "0.72\t\t0.84\t\t-0.12\n",
      "0.71\t\t0.88\t\t-0.17\n",
      "0.72\t\t0.82\t\t-0.10\n",
      "0.73\t\t0.82\t\t-0.09\n",
      "0.76\t\t0.85\t\t-0.09\n",
      "0.75\t\t0.81\t\t-0.06\n",
      "0.74\t\t0.83\t\t-0.09\n",
      "0.70\t\t0.85\t\t-0.16\n",
      "0.67\t\t0.84\t\t-0.17\n",
      "0.75\t\t0.88\t\t-0.12\n",
      "0.67\t\t0.88\t\t-0.20\n",
      "0.72\t\t0.85\t\t-0.13\n",
      "0.74\t\t0.79\t\t-0.04\n",
      "0.65\t\t0.85\t\t-0.20\n",
      "0.78\t\t0.92\t\t-0.15\n",
      "0.62\t\t0.81\t\t-0.19\n",
      "0.71\t\t0.87\t\t-0.16\n",
      "0.62\t\t0.85\t\t-0.24\n",
      "0.74\t\t0.87\t\t-0.12\n",
      "0.70\t\t0.84\t\t-0.15\n",
      "0.78\t\t0.82\t\t-0.04\n",
      "0.71\t\t0.90\t\t-0.19\n",
      "0.63\t\t0.84\t\t-0.21\n",
      "0.64\t\t0.81\t\t-0.17\n",
      "0.67\t\t0.80\t\t-0.12\n",
      "0.67\t\t0.83\t\t-0.16\n",
      "0.70\t\t0.80\t\t-0.10\n",
      "0.76\t\t0.80\t\t-0.03\n",
      "0.63\t\t0.82\t\t-0.19\n",
      "0.70\t\t0.84\t\t-0.15\n",
      "0.70\t\t0.81\t\t-0.11\n",
      "0.76\t\t0.88\t\t-0.11\n",
      "0.76\t\t0.91\t\t-0.15\n",
      "0.69\t\t0.85\t\t-0.17\n",
      "0.75\t\t0.85\t\t-0.10\n",
      "0.73\t\t0.84\t\t-0.11\n"
     ]
    }
   ],
   "source": [
    "diferenca(accuracy,accuracy2,diff)"
   ]
  },
  {
   "cell_type": "code",
   "execution_count": 27,
   "metadata": {},
   "outputs": [
    {
     "name": "stdout",
     "output_type": "stream",
     "text": [
      "Intervalo de confianca das diferencas [-0.22;-0.02]\n"
     ]
    }
   ],
   "source": [
    "intervaloConfiancaDiferenca(diff)"
   ]
  },
  {
   "cell_type": "code",
   "execution_count": 28,
   "metadata": {},
   "outputs": [
    {
     "name": "stdout",
     "output_type": "stream",
     "text": [
      "Intervalo taxa de acerto v1 [0.63;0.79]\n",
      "Intervalo taxa de acerto v2 [0.76;0.91]\n"
     ]
    }
   ],
   "source": [
    "intervaloConfiancaTaxaAcerto(accuracy,accuracy2)"
   ]
  }
 ],
 "metadata": {
  "interpreter": {
   "hash": "31f2aee4e71d21fbe5cf8b01ff0e069b9275f58929596ceb00d14d90e3e16cd6"
  },
  "kernelspec": {
   "display_name": "Python 3.8.10 64-bit",
   "language": "python",
   "name": "python3"
  },
  "language_info": {
   "codemirror_mode": {
    "name": "ipython",
    "version": 3
   },
   "file_extension": ".py",
   "mimetype": "text/x-python",
   "name": "python",
   "nbconvert_exporter": "python",
   "pygments_lexer": "ipython3",
   "version": "3.8.10"
  },
  "orig_nbformat": 4
 },
 "nbformat": 4,
 "nbformat_minor": 2
}
