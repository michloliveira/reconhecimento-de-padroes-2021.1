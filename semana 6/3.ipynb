{
 "cells": [
  {
   "cell_type": "code",
   "execution_count": 26,
   "metadata": {},
   "outputs": [],
   "source": [
    "from sklearn.model_selection import train_test_split\n",
    "from sklearn.neural_network import MLPClassifier\n",
    "from sklearn.datasets import make_classification\n",
    "import pandas as pd\n",
    "import numpy as np"
   ]
  },
  {
   "cell_type": "code",
   "execution_count": 27,
   "metadata": {},
   "outputs": [],
   "source": [
    "df = pd.read_csv(\"wine.data\", header=None)\n",
    "df\n",
    "x = df[df.columns[1:]]\n",
    "y = df[df.columns[0]]"
   ]
  },
  {
   "cell_type": "code",
   "execution_count": 28,
   "metadata": {},
   "outputs": [],
   "source": [
    "#x, y = make_classification(n_samples=100, random_state=1, solver='sgd')\n",
    "mlp = MLPClassifier(solver='sgd', random_state=1, max_iter=35, verbose=True, learning_rate='constant', hidden_layer_sizes=(4,4), learning_rate_init=0.5, activation='logistic')"
   ]
  },
  {
   "cell_type": "code",
   "execution_count": 29,
   "metadata": {},
   "outputs": [],
   "source": [
    "treinoX, testeX, treinoY, testeY = train_test_split(x,y,test_size=0.50, random_state=1)"
   ]
  },
  {
   "cell_type": "code",
   "execution_count": 30,
   "metadata": {},
   "outputs": [
    {
     "name": "stdout",
     "output_type": "stream",
     "text": [
      "Iteration 1, loss = 1.20530328\n",
      "Iteration 2, loss = 1.09372525\n",
      "Iteration 3, loss = 1.08871739\n",
      "Iteration 4, loss = 1.10207024\n",
      "Iteration 5, loss = 1.10428462\n",
      "Iteration 6, loss = 1.09647581\n",
      "Iteration 7, loss = 1.08777573\n",
      "Iteration 8, loss = 1.08418143\n",
      "Iteration 9, loss = 1.08465616\n",
      "Iteration 10, loss = 1.08551754\n",
      "Iteration 11, loss = 1.08527673\n",
      "Iteration 12, loss = 1.08453128\n",
      "Iteration 13, loss = 1.08402183\n",
      "Iteration 14, loss = 1.08389394\n",
      "Iteration 15, loss = 1.08394726\n",
      "Iteration 16, loss = 1.08398664\n",
      "Iteration 17, loss = 1.08395823\n",
      "Iteration 18, loss = 1.08390443\n",
      "Iteration 19, loss = 1.08387115\n",
      "Iteration 20, loss = 1.08386580\n",
      "Iteration 21, loss = 1.08387152\n",
      "Iteration 22, loss = 1.08387387\n",
      "Iteration 23, loss = 1.08387062\n",
      "Iteration 24, loss = 1.08386618\n",
      "Iteration 25, loss = 1.08386395\n",
      "Training loss did not improve more than tol=0.000100 for 10 consecutive epochs. Stopping.\n"
     ]
    },
    {
     "data": {
      "text/plain": [
       "0.38202247191011235"
      ]
     },
     "execution_count": 30,
     "metadata": {},
     "output_type": "execute_result"
    }
   ],
   "source": [
    "mlp.fit(treinoX, treinoY)\n",
    "mlp.score(testeX, testeY)"
   ]
  }
 ],
 "metadata": {
  "interpreter": {
   "hash": "916dbcbb3f70747c44a77c7bcd40155683ae19c65e1c03b4aa3499c5328201f1"
  },
  "kernelspec": {
   "display_name": "Python 3.8.10 64-bit",
   "language": "python",
   "name": "python3"
  },
  "language_info": {
   "codemirror_mode": {
    "name": "ipython",
    "version": 3
   },
   "file_extension": ".py",
   "mimetype": "text/x-python",
   "name": "python",
   "nbconvert_exporter": "python",
   "pygments_lexer": "ipython3",
   "version": "3.8.10"
  },
  "orig_nbformat": 4
 },
 "nbformat": 4,
 "nbformat_minor": 2
}
