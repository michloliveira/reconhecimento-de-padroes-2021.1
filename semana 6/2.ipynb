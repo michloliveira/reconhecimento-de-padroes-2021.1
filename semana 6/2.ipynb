{
 "cells": [
  {
   "cell_type": "code",
   "execution_count": 105,
   "metadata": {},
   "outputs": [],
   "source": [
    "from sklearn.model_selection import train_test_split\n",
    "from sklearn.preprocessing import LabelEncoder\n",
    "from keras.models import Sequential\n",
    "from keras.layers.core import Dense, Activation\n",
    "from keras.utils import np_utils\n",
    "from keras.optimizers import gradient_descent_v2\n",
    "import pandas as pd\n",
    "import numpy as np"
   ]
  },
  {
   "cell_type": "code",
   "execution_count": 106,
   "metadata": {},
   "outputs": [],
   "source": [
    "def mediaAmostral(accuracyArray):\n",
    "    return np.mean(accuracyArray)"
   ]
  },
  {
   "cell_type": "code",
   "execution_count": 107,
   "metadata": {},
   "outputs": [],
   "source": [
    "def desvioPadraoAmostral(accuracyArray):\n",
    "    return np.std(accuracyArray, ddof = 1)"
   ]
  },
  {
   "cell_type": "code",
   "execution_count": 108,
   "metadata": {},
   "outputs": [],
   "source": [
    "df = pd.read_csv(\"wine.data\", sep=\",\", header=None)\n",
    "x = df[df.columns[1:]].astype(float)\n",
    "y = df[df.columns[0]]"
   ]
  },
  {
   "cell_type": "code",
   "execution_count": 109,
   "metadata": {},
   "outputs": [],
   "source": [
    "encoder = LabelEncoder()\n",
    "encoder.fit(y)\n",
    "encoded_Y = encoder.transform(y)\n",
    "bin_y = np_utils.to_categorical(encoded_Y)"
   ]
  },
  {
   "cell_type": "code",
   "execution_count": 125,
   "metadata": {},
   "outputs": [
    {
     "name": "stdout",
     "output_type": "stream",
     "text": [
      "Desvio Padrão acuracia: 0.03043664709323117\n",
      "Media da acuracia: 0.9640449504057567\n"
     ]
    }
   ],
   "source": [
    "model = Sequential()\n",
    "model.add(Dense(38, input_dim = 13))\n",
    "model.add(Activation(\"sigmoid\"))\n",
    "model.add(Dense(3))\n",
    "model.add(Activation(\"softmax\"))\n",
    "\n",
    "accuracyList = []\n",
    "for i in range(30):\n",
    "    treinoX,testeX,treinoY,testeY = train_test_split(x,bin_y, train_size=0.5,random_state=i)\n",
    "    model.compile(optimizer= 'adam',loss= \"binary_crossentropy\", metrics=[\"accuracy\"])\n",
    "    model.fit(treinoX, treinoY, epochs=200, verbose= 0)\n",
    "\n",
    "    loss, accuracy = model.evaluate(testeX,testeY, verbose= 0)\n",
    "\n",
    "    accuracyList.append(accuracy)\n",
    "    #print (accuracy)\n",
    "\n",
    "#print(accuracyList)\n",
    "print(\"Desvio Padrão acuracia: \" + str(desvioPadraoAmostral(accuracyList)))\n",
    "print(\"Media da acuracia: \" + str(mediaAmostral(accuracyList)))"
   ]
  }
 ],
 "metadata": {
  "interpreter": {
   "hash": "916dbcbb3f70747c44a77c7bcd40155683ae19c65e1c03b4aa3499c5328201f1"
  },
  "kernelspec": {
   "display_name": "Python 3.8.10 64-bit",
   "language": "python",
   "name": "python3"
  },
  "language_info": {
   "codemirror_mode": {
    "name": "ipython",
    "version": 3
   },
   "file_extension": ".py",
   "mimetype": "text/x-python",
   "name": "python",
   "nbconvert_exporter": "python",
   "pygments_lexer": "ipython3",
   "version": "3.8.10"
  },
  "orig_nbformat": 4
 },
 "nbformat": 4,
 "nbformat_minor": 2
}
